{
 "cells": [
  {
   "cell_type": "code",
   "execution_count": 1,
   "metadata": {},
   "outputs": [],
   "source": [
    "import regular_fxn as rf"
   ]
  },
  {
   "cell_type": "code",
   "execution_count": 2,
   "metadata": {},
   "outputs": [],
   "source": [
    "from sklearn.neighbors import KDTree"
   ]
  },
  {
   "cell_type": "code",
   "execution_count": 4,
   "metadata": {},
   "outputs": [],
   "source": [
    "tree = KDTree(rf.testdat,leaf_size=10)"
   ]
  },
  {
   "cell_type": "code",
   "execution_count": 5,
   "metadata": {},
   "outputs": [],
   "source": [
    "ft,analog = rf.ret_prmsl(rf.list00[0],0)"
   ]
  },
  {
   "cell_type": "code",
   "execution_count": 6,
   "metadata": {},
   "outputs": [],
   "source": [
    "dist,ind = tree.query(analog,k=1)"
   ]
  },
  {
   "cell_type": "code",
   "execution_count": 8,
   "metadata": {},
   "outputs": [
    {
     "name": "stdout",
     "output_type": "stream",
     "text": [
      "13602.489922335117\n"
     ]
    },
    {
     "data": {
      "image/png": "[encoded data removed]",
      "text/plain": [
       "<Figure size 432x288 with 1 Axes>"
      ]
     },
     "metadata": {
      "needs_background": "light"
     },
     "output_type": "display_data"
    }
   ],
   "source": [
    "rf.plt.hist(dist)\n",
    "print(rf.np.mean(dist))"
   ]
  },
  {
   "cell_type": "code",
   "execution_count": 9,
   "metadata": {},
   "outputs": [],
   "source": [
    "ft,analog1 = rf.ret_prmsl(rf.list00[1],0)"
   ]
  },
  {
   "cell_type": "code",
   "execution_count": 10,
   "metadata": {},
   "outputs": [],
   "source": [
    "dist1,ind1 = tree.query(analog1,k=1)"
   ]
  },
  {
   "cell_type": "code",
   "execution_count": 11,
   "metadata": {},
   "outputs": [
    {
     "name": "stdout",
     "output_type": "stream",
     "text": [
      "13643.185394720576\n"
     ]
    },
    {
     "data": {
      "image/png": "[encoded data removed]",
      "text/plain": [
       "<Figure size 432x288 with 1 Axes>"
      ]
     },
     "metadata": {
      "needs_background": "light"
     },
     "output_type": "display_data"
    }
   ],
   "source": [
    "rf.plt.hist(dist1)\n",
    "print(rf.np.mean(dist1))"
   ]
  },
  {
   "cell_type": "code",
   "execution_count": 26,
   "metadata": {},
   "outputs": [],
   "source": [
    "list00_mat = []\n",
    "for f in rf.list00:\n",
    "    ft,dat = rf.ret_prmsl(f,0)\n",
    "    dat = rf.pd.DataFrame(dat)\n",
    "    list00_mat.append(dat)"
   ]
  },
  {
   "cell_type": "code",
   "execution_count": 27,
   "metadata": {},
   "outputs": [],
   "source": [
    "list00_df = rf.pd.concat(list00_mat)"
   ]
  },
  {
   "cell_type": "code",
   "execution_count": 23,
   "metadata": {},
   "outputs": [
    {
     "data": {
      "text/plain": [
       "1116"
      ]
     },
     "execution_count": 23,
     "metadata": {},
     "output_type": "execute_result"
    }
   ],
   "source": [
    "len(list00_mat)"
   ]
  },
  {
   "cell_type": "code",
   "execution_count": 33,
   "metadata": {},
   "outputs": [],
   "source": [
    "list00_df.to_pickle(\"list00_df.pkl\")"
   ]
  },
  {
   "cell_type": "code",
   "execution_count": 29,
   "metadata": {},
   "outputs": [],
   "source": [
    "kdt = KDTree(list00_df,leaf_size=10)"
   ]
  },
  {
   "cell_type": "code",
   "execution_count": 30,
   "metadata": {},
   "outputs": [],
   "source": [
    "d,idx = kdt.query(rf.testdat,k=5)"
   ]
  },
  {
   "cell_type": "code",
   "execution_count": 32,
   "metadata": {},
   "outputs": [
    {
     "data": {
      "text/plain": [
       "(181, 5)"
      ]
     },
     "execution_count": 32,
     "metadata": {},
     "output_type": "execute_result"
    }
   ],
   "source": [
    "idx.shape"
   ]
  },
  {
   "cell_type": "code",
   "execution_count": null,
   "metadata": {},
   "outputs": [],
   "source": [
    "# #Importing list00_mat\n",
    "\n",
    "# import pandas as pd\n",
    "\n",
    "# import numpy as np\n",
    "\n",
    "# import nltk\n",
    "\n",
    "# #Reading first 2000 rows of the dataset\n",
    "\n",
    "# people = pd.read_csv('../../code_practice/people_data.csv',nrows =100)\n",
    "\n",
    "# #Using countvectoriser to count the freq of occurence of each word\n",
    "\n",
    "# from sklearn.feature_extraction.text import CountVectorizer\n",
    "\n",
    "# count_vect = CountVectorizer()\n",
    "\n",
    "# X_train_counts = count_vect.fit_transform(people.text)\n",
    "\n",
    "# #Using tf-idf to reduce the effect of common words\n",
    "\n",
    "# from sklearn.feature_extraction.text import TfidfTransformer\n",
    "\n",
    "# tfidf_transformer = TfidfTransformer()\n",
    "\n",
    "# X_train_tfidf = tfidf_transformer.fit_transform(X_train_counts)\n",
    "\n",
    "# #Using tfidf as a feature\n",
    "\n",
    "# people['tfidf']=list(X_train_tfidf.toarray())\n",
    "\n",
    "# #Importing KDTree\n",
    "\n",
    "# from sklearn.neighbors import KDTree\n",
    "# my_list = people['tfidf']\n",
    "# this_list = list(my_list)\n",
    "# my_list.size\n",
    "\n",
    "# kdt = KDTree(my_list, leaf_size=3)\n",
    "\n",
    "# #Using KDTree to find 3 articles similar to that of Barack Obama\n",
    "\n",
    "# dist, idx = kdt.query(people['tfidf'][people['name']=='Barack Obama'].tolist(), k=3)\n",
    "\n",
    "\n",
    "# #Indices of 3 nearest articles\n",
    "\n",
    "# idx[0]\n",
    "\n",
    "\n",
    "\n",
    "# Out[10]:\n",
    "\n",
    "# array([  32,    0, 1177])\n",
    "\n",
    "\n",
    "\n",
    "# In [11]:\n",
    "\n",
    "# #Nearest neighbour 1\n",
    "\n",
    "# people['name'][32]\n",
    "\n",
    "\n",
    "\n",
    "# Out[11]:\n",
    "\n",
    "# 'Barack Obama'\n",
    "\n",
    "\n",
    "\n",
    "# In [12]:\n",
    "\n",
    "# #Nearest neighbour 2\n",
    "\n",
    "# people['name'][0]\n",
    "\n",
    "\n",
    "\n",
    "# Out[12]:\n",
    "\n",
    "# 'Bill Clinton'\n",
    "\n",
    "\n",
    "\n",
    "# In [13]:\n",
    "\n",
    "# #Nearest neighbour 3\n",
    "\n",
    "# people['name'][1177]\n",
    "\n",
    "\n",
    "\n",
    "# Out[13]:\n",
    "\n",
    "# 'Donald Fowler'"
   ]
  }
 ],
 "metadata": {
  "kernelspec": {
   "display_name": "Python 3",
   "language": "python",
   "name": "python3"
  },
  "language_info": {
   "codemirror_mode": {
    "name": "ipython",
    "version": 3
   },
   "file_extension": ".py",
   "mimetype": "text/x-python",
   "name": "python",
   "nbconvert_exporter": "python",
   "pygments_lexer": "ipython3",
   "version": "3.6.3"
  }
 },
 "nbformat": 4,
 "nbformat_minor": 4
}
